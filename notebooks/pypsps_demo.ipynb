{
 "cells": [
  {
   "cell_type": "markdown",
   "metadata": {},
   "source": [
    "# pypsps: demo of learning UTE and ATE from simulated datasets\n",
    "\n",
    "This notebook illustrates how to use `pypsps` for\n",
    "\n",
    "* how to train PSPS deep nets from causal (simulated) datasets\n",
    " \n",
    "* how to use model predictions/estimates to obtain UTE / ATE"
   ]
  },
  {
   "cell_type": "code",
   "execution_count": 1,
   "metadata": {},
   "outputs": [],
   "source": [
    "%load_ext autoreload\n",
    "%load_ext tensorboard\n",
    "%autoreload 2"
   ]
  },
  {
   "cell_type": "code",
   "execution_count": 2,
   "metadata": {},
   "outputs": [
    {
     "name": "stderr",
     "output_type": "stream",
     "text": [
      "2024-04-22 22:31:16.672352: W tensorflow/stream_executor/platform/default/dso_loader.cc:64] Could not load dynamic library 'libcudart.so.11.0'; dlerror: libcudart.so.11.0: cannot open shared object file: No such file or directory\n",
      "2024-04-22 22:31:16.672380: I tensorflow/stream_executor/cuda/cudart_stub.cc:29] Ignore above cudart dlerror if you do not have a GPU set up on your machine.\n"
     ]
    }
   ],
   "source": [
    "import importlib\n",
    "import os\n",
    "import sys\n",
    "import pathlib\n",
    "import tensorflow as tf\n",
    "import tensorflow.keras as tfk\n",
    "\n",
    "from os.path import dirname\n",
    "import pandas as pd\n",
    "import numpy as np\n",
    "import seaborn as sns\n",
    "import matplotlib.pyplot as plt\n",
    "import tqdm\n",
    "import logging\n",
    "import datetime\n",
    "parent_path = dirname(pathlib.Path(pathlib.Path(os.getcwd())))\n",
    "\n",
    "if parent_path not in sys.path:\n",
    "    sys.path.insert(0, parent_path)"
   ]
  },
  {
   "cell_type": "code",
   "execution_count": 3,
   "metadata": {},
   "outputs": [],
   "source": [
    "import pypsps\n",
    "import pypsps.keras.layers\n",
    "import pypsps.keras.losses\n",
    "import pypsps.keras.metrics\n",
    "import pypsps.keras.models\n",
    "import pypsps.utils\n",
    "import pypsps.inference\n",
    "import pypsps.datasets\n",
    "\n",
    "import pypress # for regularizers"
   ]
  },
  {
   "cell_type": "code",
   "execution_count": 4,
   "metadata": {},
   "outputs": [],
   "source": [
    "import sklearn.metrics\n",
    "\n",
    "def _eval_propensity(y_true, y_score):\n",
    "\n",
    "    y_comb = pd.DataFrame({\"treatment\": y_true, \"propensity_score\": y_score})\n",
    "    sns.displot(data=y_comb, x=\"propensity_score\", hue=\"treatment\")\n",
    "    plt.show()\n",
    "    # Data to plot precision - recall curve\n",
    "    precision, recall, thresholds = sklearn.metrics.precision_recall_curve(y_true, y_score)\n",
    "    # Use AUC function to calculate the area under the curve of precision recall curve\n",
    "    auc_precision_recall = sklearn.metrics.auc(recall, precision)\n",
    "    print(auc_precision_recall, output_data[:, 1].mean())\n",
    "\n",
    "    plt.plot(recall, precision)\n",
    "    plt.grid()\n",
    "    plt.show()"
   ]
  },
  {
   "cell_type": "markdown",
   "metadata": {},
   "source": [
    "# Load datasets"
   ]
  },
  {
   "cell_type": "code",
   "execution_count": 5,
   "metadata": {},
   "outputs": [],
   "source": [
    "feat_cols = []\n",
    "treat_col = None\n",
    "outcome_col = None"
   ]
  },
  {
   "cell_type": "markdown",
   "metadata": {},
   "source": [
    "## Kang-Schafer"
   ]
  },
  {
   "cell_type": "code",
   "execution_count": 6,
   "metadata": {},
   "outputs": [
    {
     "data": {
      "text/html": [
       "<div>\n",
       "<style scoped>\n",
       "    .dataframe tbody tr th:only-of-type {\n",
       "        vertical-align: middle;\n",
       "    }\n",
       "\n",
       "    .dataframe tbody tr th {\n",
       "        vertical-align: top;\n",
       "    }\n",
       "\n",
       "    .dataframe thead th {\n",
       "        text-align: right;\n",
       "    }\n",
       "</style>\n",
       "<table border=\"1\" class=\"dataframe\">\n",
       "  <thead>\n",
       "    <tr style=\"text-align: right;\">\n",
       "      <th></th>\n",
       "      <th>outcome</th>\n",
       "      <th>treatment</th>\n",
       "      <th>z1</th>\n",
       "      <th>z2</th>\n",
       "      <th>z3</th>\n",
       "      <th>z4</th>\n",
       "      <th>x1</th>\n",
       "      <th>x2</th>\n",
       "      <th>x3</th>\n",
       "      <th>x4</th>\n",
       "    </tr>\n",
       "  </thead>\n",
       "  <tbody>\n",
       "    <tr>\n",
       "      <th>0</th>\n",
       "      <td>185.861788</td>\n",
       "      <td>1</td>\n",
       "      <td>-1.085631</td>\n",
       "      <td>0.997345</td>\n",
       "      <td>0.282978</td>\n",
       "      <td>-1.506295</td>\n",
       "      <td>0.581110</td>\n",
       "      <td>10.745574</td>\n",
       "      <td>0.202998</td>\n",
       "      <td>379.901059</td>\n",
       "    </tr>\n",
       "    <tr>\n",
       "      <th>1</th>\n",
       "      <td>185.488662</td>\n",
       "      <td>1</td>\n",
       "      <td>-0.578600</td>\n",
       "      <td>1.651437</td>\n",
       "      <td>-2.426679</td>\n",
       "      <td>-0.428913</td>\n",
       "      <td>0.748787</td>\n",
       "      <td>11.058150</td>\n",
       "      <td>0.282511</td>\n",
       "      <td>450.395521</td>\n",
       "    </tr>\n",
       "    <tr>\n",
       "      <th>2</th>\n",
       "      <td>222.810098</td>\n",
       "      <td>0</td>\n",
       "      <td>1.265936</td>\n",
       "      <td>-0.866740</td>\n",
       "      <td>-0.678886</td>\n",
       "      <td>-0.094709</td>\n",
       "      <td>1.883192</td>\n",
       "      <td>9.809357</td>\n",
       "      <td>0.180959</td>\n",
       "      <td>362.466410</td>\n",
       "    </tr>\n",
       "    <tr>\n",
       "      <th>3</th>\n",
       "      <td>229.073054</td>\n",
       "      <td>0</td>\n",
       "      <td>1.491390</td>\n",
       "      <td>-0.638902</td>\n",
       "      <td>-0.443982</td>\n",
       "      <td>-0.434351</td>\n",
       "      <td>2.107906</td>\n",
       "      <td>9.882625</td>\n",
       "      <td>0.188639</td>\n",
       "      <td>358.221742</td>\n",
       "    </tr>\n",
       "    <tr>\n",
       "      <th>4</th>\n",
       "      <td>318.044041</td>\n",
       "      <td>0</td>\n",
       "      <td>2.205930</td>\n",
       "      <td>2.186786</td>\n",
       "      <td>1.004054</td>\n",
       "      <td>0.386186</td>\n",
       "      <td>3.013087</td>\n",
       "      <td>10.216971</td>\n",
       "      <td>0.326506</td>\n",
       "      <td>509.539087</td>\n",
       "    </tr>\n",
       "  </tbody>\n",
       "</table>\n",
       "</div>"
      ],
      "text/plain": [
       "      outcome  treatment        z1        z2        z3        z4        x1  \\\n",
       "0  185.861788          1 -1.085631  0.997345  0.282978 -1.506295  0.581110   \n",
       "1  185.488662          1 -0.578600  1.651437 -2.426679 -0.428913  0.748787   \n",
       "2  222.810098          0  1.265936 -0.866740 -0.678886 -0.094709  1.883192   \n",
       "3  229.073054          0  1.491390 -0.638902 -0.443982 -0.434351  2.107906   \n",
       "4  318.044041          0  2.205930  2.186786  1.004054  0.386186  3.013087   \n",
       "\n",
       "          x2        x3          x4  \n",
       "0  10.745574  0.202998  379.901059  \n",
       "1  11.058150  0.282511  450.395521  \n",
       "2   9.809357  0.180959  362.466410  \n",
       "3   9.882625  0.188639  358.221742  \n",
       "4  10.216971  0.326506  509.539087  "
      ]
     },
     "execution_count": 6,
     "metadata": {},
     "output_type": "execute_result"
    }
   ],
   "source": [
    "np.random.seed(123)\n",
    "ks_sampler = pypsps.datasets.KangSchafer(true_ate=10) \n",
    "ks_data = ks_sampler.sample(n_samples=1000)\n",
    "df = ks_data.to_data_frame()\n",
    "\n",
    "treat_col = \"treatment\"\n",
    "outcome_col = \"outcome\"\n",
    "feat_cols = list(set(df.columns) - set([treat_col, outcome_col]))\n",
    "feat_cols = [c for c in feat_cols if \"x\" in c]\n",
    "\n",
    "df.head()"
   ]
  },
  {
   "cell_type": "markdown",
   "metadata": {},
   "source": [
    "# Lalonde"
   ]
  },
  {
   "cell_type": "code",
   "execution_count": 7,
   "metadata": {},
   "outputs": [
    {
     "name": "stdout",
     "output_type": "stream",
     "text": [
      "Reading data from http://www.nber.org/~rdehejia/data/nswre74_control.txt\n",
      "Reading data from http://www.nber.org/~rdehejia/data/nswre74_treated.txt\n",
      "Reading data from http://www.nber.org/~rdehejia/data/cps_controls.txt\n"
     ]
    },
    {
     "data": {
      "text/html": [
       "<div>\n",
       "<style scoped>\n",
       "    .dataframe tbody tr th:only-of-type {\n",
       "        vertical-align: middle;\n",
       "    }\n",
       "\n",
       "    .dataframe tbody tr th {\n",
       "        vertical-align: top;\n",
       "    }\n",
       "\n",
       "    .dataframe thead th {\n",
       "        text-align: right;\n",
       "    }\n",
       "</style>\n",
       "<table border=\"1\" class=\"dataframe\">\n",
       "  <thead>\n",
       "    <tr style=\"text-align: right;\">\n",
       "      <th></th>\n",
       "      <th>earnings1978</th>\n",
       "      <th>treatment</th>\n",
       "      <th>married</th>\n",
       "      <th>black</th>\n",
       "      <th>nodegree</th>\n",
       "      <th>earnings1975</th>\n",
       "      <th>earnings1974</th>\n",
       "      <th>age</th>\n",
       "      <th>hispanic</th>\n",
       "      <th>education</th>\n",
       "      <th>is_unemployed_1974</th>\n",
       "      <th>is_unemployed_1975</th>\n",
       "    </tr>\n",
       "  </thead>\n",
       "  <tbody>\n",
       "    <tr>\n",
       "      <th>0</th>\n",
       "      <td>9930.0460</td>\n",
       "      <td>1.0</td>\n",
       "      <td>1.0</td>\n",
       "      <td>1.0</td>\n",
       "      <td>1.0</td>\n",
       "      <td>0.0</td>\n",
       "      <td>0.0</td>\n",
       "      <td>37.0</td>\n",
       "      <td>0.0</td>\n",
       "      <td>11.0</td>\n",
       "      <td>1.0</td>\n",
       "      <td>1.0</td>\n",
       "    </tr>\n",
       "    <tr>\n",
       "      <th>1</th>\n",
       "      <td>3595.8940</td>\n",
       "      <td>1.0</td>\n",
       "      <td>0.0</td>\n",
       "      <td>0.0</td>\n",
       "      <td>1.0</td>\n",
       "      <td>0.0</td>\n",
       "      <td>0.0</td>\n",
       "      <td>22.0</td>\n",
       "      <td>1.0</td>\n",
       "      <td>9.0</td>\n",
       "      <td>1.0</td>\n",
       "      <td>1.0</td>\n",
       "    </tr>\n",
       "    <tr>\n",
       "      <th>2</th>\n",
       "      <td>24909.4500</td>\n",
       "      <td>1.0</td>\n",
       "      <td>0.0</td>\n",
       "      <td>1.0</td>\n",
       "      <td>0.0</td>\n",
       "      <td>0.0</td>\n",
       "      <td>0.0</td>\n",
       "      <td>30.0</td>\n",
       "      <td>0.0</td>\n",
       "      <td>12.0</td>\n",
       "      <td>1.0</td>\n",
       "      <td>1.0</td>\n",
       "    </tr>\n",
       "    <tr>\n",
       "      <th>3</th>\n",
       "      <td>7506.1460</td>\n",
       "      <td>1.0</td>\n",
       "      <td>0.0</td>\n",
       "      <td>1.0</td>\n",
       "      <td>1.0</td>\n",
       "      <td>0.0</td>\n",
       "      <td>0.0</td>\n",
       "      <td>27.0</td>\n",
       "      <td>0.0</td>\n",
       "      <td>11.0</td>\n",
       "      <td>1.0</td>\n",
       "      <td>1.0</td>\n",
       "    </tr>\n",
       "    <tr>\n",
       "      <th>4</th>\n",
       "      <td>289.7899</td>\n",
       "      <td>1.0</td>\n",
       "      <td>0.0</td>\n",
       "      <td>1.0</td>\n",
       "      <td>1.0</td>\n",
       "      <td>0.0</td>\n",
       "      <td>0.0</td>\n",
       "      <td>33.0</td>\n",
       "      <td>0.0</td>\n",
       "      <td>8.0</td>\n",
       "      <td>1.0</td>\n",
       "      <td>1.0</td>\n",
       "    </tr>\n",
       "  </tbody>\n",
       "</table>\n",
       "</div>"
      ],
      "text/plain": [
       "   earnings1978  treatment  married  black  nodegree  earnings1975  \\\n",
       "0     9930.0460        1.0      1.0    1.0       1.0           0.0   \n",
       "1     3595.8940        1.0      0.0    0.0       1.0           0.0   \n",
       "2    24909.4500        1.0      0.0    1.0       0.0           0.0   \n",
       "3     7506.1460        1.0      0.0    1.0       1.0           0.0   \n",
       "4      289.7899        1.0      0.0    1.0       1.0           0.0   \n",
       "\n",
       "   earnings1974   age  hispanic  education  is_unemployed_1974  \\\n",
       "0           0.0  37.0       0.0       11.0                 1.0   \n",
       "1           0.0  22.0       1.0        9.0                 1.0   \n",
       "2           0.0  30.0       0.0       12.0                 1.0   \n",
       "3           0.0  27.0       0.0       11.0                 1.0   \n",
       "4           0.0  33.0       0.0        8.0                 1.0   \n",
       "\n",
       "   is_unemployed_1975  \n",
       "0                 1.0  \n",
       "1                 1.0  \n",
       "2                 1.0  \n",
       "3                 1.0  \n",
       "4                 1.0  "
      ]
     },
     "execution_count": 7,
     "metadata": {},
     "output_type": "execute_result"
    }
   ],
   "source": [
    "np.random.seed(123)\n",
    "l_data = pypsps.datasets.lalonde.Lalonde(observational_control=True, add_is_unemployed_features=True)\n",
    "df = l_data.to_data_frame()\n",
    "\n",
    "treat_col = \"treatment\"\n",
    "outcome_col = \"earnings1978\"\n",
    "feat_cols = list(set(df.columns) - set([treat_col, outcome_col]))\n",
    "\n",
    "df.head()"
   ]
  },
  {
   "cell_type": "markdown",
   "metadata": {},
   "source": [
    "## Lunceford-Davidian"
   ]
  },
  {
   "cell_type": "code",
   "execution_count": 8,
   "metadata": {},
   "outputs": [
    {
     "data": {
      "text/html": [
       "<div>\n",
       "<style scoped>\n",
       "    .dataframe tbody tr th:only-of-type {\n",
       "        vertical-align: middle;\n",
       "    }\n",
       "\n",
       "    .dataframe tbody tr th {\n",
       "        vertical-align: top;\n",
       "    }\n",
       "\n",
       "    .dataframe thead th {\n",
       "        text-align: right;\n",
       "    }\n",
       "</style>\n",
       "<table border=\"1\" class=\"dataframe\">\n",
       "  <thead>\n",
       "    <tr style=\"text-align: right;\">\n",
       "      <th></th>\n",
       "      <th>outcome</th>\n",
       "      <th>treatment</th>\n",
       "      <th>x1</th>\n",
       "      <th>x2</th>\n",
       "      <th>x3</th>\n",
       "      <th>z1</th>\n",
       "      <th>z2</th>\n",
       "      <th>z3</th>\n",
       "    </tr>\n",
       "  </thead>\n",
       "  <tbody>\n",
       "    <tr>\n",
       "      <th>0</th>\n",
       "      <td>4.645024</td>\n",
       "      <td>1</td>\n",
       "      <td>-0.344101</td>\n",
       "      <td>0.775747</td>\n",
       "      <td>0</td>\n",
       "      <td>-1.393593</td>\n",
       "      <td>-0.102446</td>\n",
       "      <td>0</td>\n",
       "    </tr>\n",
       "    <tr>\n",
       "      <th>1</th>\n",
       "      <td>-1.117382</td>\n",
       "      <td>1</td>\n",
       "      <td>0.750124</td>\n",
       "      <td>0.034337</td>\n",
       "      <td>0</td>\n",
       "      <td>0.929039</td>\n",
       "      <td>0.003968</td>\n",
       "      <td>0</td>\n",
       "    </tr>\n",
       "    <tr>\n",
       "      <th>2</th>\n",
       "      <td>3.501009</td>\n",
       "      <td>0</td>\n",
       "      <td>-1.185921</td>\n",
       "      <td>0.055304</td>\n",
       "      <td>0</td>\n",
       "      <td>-0.258622</td>\n",
       "      <td>1.609794</td>\n",
       "      <td>0</td>\n",
       "    </tr>\n",
       "    <tr>\n",
       "      <th>3</th>\n",
       "      <td>1.309775</td>\n",
       "      <td>1</td>\n",
       "      <td>-0.206458</td>\n",
       "      <td>-1.315277</td>\n",
       "      <td>0</td>\n",
       "      <td>1.613716</td>\n",
       "      <td>1.428301</td>\n",
       "      <td>0</td>\n",
       "    </tr>\n",
       "    <tr>\n",
       "      <th>4</th>\n",
       "      <td>3.778180</td>\n",
       "      <td>1</td>\n",
       "      <td>-1.812288</td>\n",
       "      <td>-0.664850</td>\n",
       "      <td>0</td>\n",
       "      <td>0.572627</td>\n",
       "      <td>1.366041</td>\n",
       "      <td>0</td>\n",
       "    </tr>\n",
       "  </tbody>\n",
       "</table>\n",
       "</div>"
      ],
      "text/plain": [
       "    outcome  treatment        x1        x2  x3        z1        z2  z3\n",
       "0  4.645024          1 -0.344101  0.775747   0 -1.393593 -0.102446   0\n",
       "1 -1.117382          1  0.750124  0.034337   0  0.929039  0.003968   0\n",
       "2  3.501009          0 -1.185921  0.055304   0 -0.258622  1.609794   0\n",
       "3  1.309775          1 -0.206458 -1.315277   0  1.613716  1.428301   0\n",
       "4  3.778180          1 -1.812288 -0.664850   0  0.572627  1.366041   0"
      ]
     },
     "execution_count": 8,
     "metadata": {},
     "output_type": "execute_result"
    }
   ],
   "source": [
    "np.random.seed(123)\n",
    "ld_sampler = pypsps.datasets.LuncefordDavidian(association=\"strong\")\n",
    "ld_data = ld_sampler.sample(n_samples=1000)\n",
    "df = ld_data.to_data_frame()\n",
    "\n",
    "treat_col = \"treatment\"\n",
    "outcome_col = \"outcome\"\n",
    "feat_cols = list(set(df.columns) - set([treat_col, outcome_col]))\n",
    "feat_cols = [c for c in feat_cols if \"x\" in c]\n",
    "\n",
    "df.head()"
   ]
  },
  {
   "cell_type": "code",
   "execution_count": 9,
   "metadata": {},
   "outputs": [
    {
     "data": {
      "text/plain": [
       "1.3429938920890778"
      ]
     },
     "execution_count": 9,
     "metadata": {},
     "output_type": "execute_result"
    }
   ],
   "source": [
    "ld_data.naive_ate()"
   ]
  },
  {
   "cell_type": "markdown",
   "metadata": {},
   "source": [
    "# Summary stats of Causal dataset"
   ]
  },
  {
   "cell_type": "code",
   "execution_count": 10,
   "metadata": {},
   "outputs": [
    {
     "name": "stdout",
     "output_type": "stream",
     "text": [
      "treatment     0     1\n",
      "outcome    0.47  1.82\n",
      "x1        -1.07 -0.81\n",
      "x2        -0.84 -1.15\n",
      "x3         0.19  0.29\n",
      "z1         0.97  1.07\n",
      "z2         0.99  1.06\n",
      "z3         0.36  0.42\n"
     ]
    }
   ],
   "source": [
    "print(df.groupby(treat_col).mean().T.round(2))"
   ]
  },
  {
   "cell_type": "code",
   "execution_count": 11,
   "metadata": {},
   "outputs": [
    {
     "data": {
      "text/plain": [
       "['x2', 'x1', 'x3']"
      ]
     },
     "execution_count": 11,
     "metadata": {},
     "output_type": "execute_result"
    }
   ],
   "source": [
    "feat_cols"
   ]
  },
  {
   "cell_type": "markdown",
   "metadata": {},
   "source": [
    "# Feature, treatment, outcome: setup for model training and inference"
   ]
  },
  {
   "cell_type": "code",
   "execution_count": 12,
   "metadata": {},
   "outputs": [
    {
     "data": {
      "text/plain": [
       "((1000, 3), (1000, 1), (1000, 1))"
      ]
     },
     "execution_count": 12,
     "metadata": {},
     "output_type": "execute_result"
    }
   ],
   "source": [
    "X, treatment, y = df[feat_cols].astype(float), df[[treat_col]], df[[outcome_col]]\n",
    "X.shape, treatment.shape, y.shape"
   ]
  },
  {
   "cell_type": "code",
   "execution_count": 13,
   "metadata": {},
   "outputs": [
    {
     "data": {
      "text/plain": [
       "treatment\n",
       "0    0.472039\n",
       "1    1.815033\n",
       "Name: outcome, dtype: float64"
      ]
     },
     "execution_count": 13,
     "metadata": {},
     "output_type": "execute_result"
    }
   ],
   "source": [
    "# Naive difference in means\n",
    "df.groupby(treat_col)[outcome_col].mean()"
   ]
  },
  {
   "cell_type": "code",
   "execution_count": 14,
   "metadata": {},
   "outputs": [
    {
     "data": {
      "text/html": [
       "<div>\n",
       "<style scoped>\n",
       "    .dataframe tbody tr th:only-of-type {\n",
       "        vertical-align: middle;\n",
       "    }\n",
       "\n",
       "    .dataframe tbody tr th {\n",
       "        vertical-align: top;\n",
       "    }\n",
       "\n",
       "    .dataframe thead th {\n",
       "        text-align: right;\n",
       "    }\n",
       "</style>\n",
       "<table border=\"1\" class=\"dataframe\">\n",
       "  <thead>\n",
       "    <tr style=\"text-align: right;\">\n",
       "      <th></th>\n",
       "      <th>x3</th>\n",
       "      <th>x2</th>\n",
       "      <th>x1</th>\n",
       "    </tr>\n",
       "  </thead>\n",
       "  <tbody>\n",
       "    <tr>\n",
       "      <th>0</th>\n",
       "      <td>0.0</td>\n",
       "      <td>1.766544</td>\n",
       "      <td>0.605236</td>\n",
       "    </tr>\n",
       "    <tr>\n",
       "      <th>1</th>\n",
       "      <td>0.0</td>\n",
       "      <td>1.030633</td>\n",
       "      <td>1.732671</td>\n",
       "    </tr>\n",
       "    <tr>\n",
       "      <th>2</th>\n",
       "      <td>0.0</td>\n",
       "      <td>1.051445</td>\n",
       "      <td>-0.262133</td>\n",
       "    </tr>\n",
       "    <tr>\n",
       "      <th>3</th>\n",
       "      <td>0.0</td>\n",
       "      <td>-0.308971</td>\n",
       "      <td>0.747056</td>\n",
       "    </tr>\n",
       "    <tr>\n",
       "      <th>4</th>\n",
       "      <td>0.0</td>\n",
       "      <td>0.336632</td>\n",
       "      <td>-0.907510</td>\n",
       "    </tr>\n",
       "    <tr>\n",
       "      <th>...</th>\n",
       "      <td>...</td>\n",
       "      <td>...</td>\n",
       "      <td>...</td>\n",
       "    </tr>\n",
       "    <tr>\n",
       "      <th>995</th>\n",
       "      <td>0.0</td>\n",
       "      <td>0.318207</td>\n",
       "      <td>-1.397577</td>\n",
       "    </tr>\n",
       "    <tr>\n",
       "      <th>996</th>\n",
       "      <td>0.0</td>\n",
       "      <td>-1.135929</td>\n",
       "      <td>-1.568665</td>\n",
       "    </tr>\n",
       "    <tr>\n",
       "      <th>997</th>\n",
       "      <td>0.0</td>\n",
       "      <td>1.467248</td>\n",
       "      <td>-1.629278</td>\n",
       "    </tr>\n",
       "    <tr>\n",
       "      <th>998</th>\n",
       "      <td>0.0</td>\n",
       "      <td>-0.112352</td>\n",
       "      <td>-1.040693</td>\n",
       "    </tr>\n",
       "    <tr>\n",
       "      <th>999</th>\n",
       "      <td>0.0</td>\n",
       "      <td>0.391533</td>\n",
       "      <td>1.154351</td>\n",
       "    </tr>\n",
       "  </tbody>\n",
       "</table>\n",
       "<p>1000 rows × 3 columns</p>\n",
       "</div>"
      ],
      "text/plain": [
       "      x3        x2        x1\n",
       "0    0.0  1.766544  0.605236\n",
       "1    0.0  1.030633  1.732671\n",
       "2    0.0  1.051445 -0.262133\n",
       "3    0.0 -0.308971  0.747056\n",
       "4    0.0  0.336632 -0.907510\n",
       "..   ...       ...       ...\n",
       "995  0.0  0.318207 -1.397577\n",
       "996  0.0 -1.135929 -1.568665\n",
       "997  0.0  1.467248 -1.629278\n",
       "998  0.0 -0.112352 -1.040693\n",
       "999  0.0  0.391533  1.154351\n",
       "\n",
       "[1000 rows x 3 columns]"
      ]
     },
     "execution_count": 14,
     "metadata": {},
     "output_type": "execute_result"
    }
   ],
   "source": [
    "# Scale features using a standard scaler (for sake of illustration don't do train/test split; in practice use train/test split for scaling as well)\n",
    "import sklearn\n",
    "\n",
    "# scale only features that have > 2 values (non-binary)\n",
    "val_counts = X.nunique()\n",
    "binary_cols = val_counts[val_counts == 2].index.tolist()\n",
    "\n",
    "X_nonbinary = X.drop(binary_cols, axis=1)\n",
    "X_s = pd.concat([X[binary_cols], \n",
    "                 pd.DataFrame(sklearn.preprocessing.scale(X_nonbinary), index=X_nonbinary.index, columns=X_nonbinary.columns)], axis=1)\n",
    "X_s"
   ]
  },
  {
   "cell_type": "markdown",
   "metadata": {},
   "source": [
    "# Model architecture"
   ]
  },
  {
   "cell_type": "code",
   "execution_count": 15,
   "metadata": {},
   "outputs": [
    {
     "name": "stdout",
     "output_type": "stream",
     "text": [
      "Model: \"model\"\n",
      "__________________________________________________________________________________________________\n",
      " Layer (type)                   Output Shape         Param #     Connected to                     \n",
      "==================================================================================================\n",
      " input_1 (InputLayer)           [(None, 3)]          0           []                               \n",
      "                                                                                                  \n",
      " batch_normalization (BatchNorm  (None, 3)           12          ['input_1[0][0]']                \n",
      " alization)                                                                                       \n",
      "                                                                                                  \n",
      " input_2 (InputLayer)           [(None, 1)]          0           []                               \n",
      "                                                                                                  \n",
      " features_and_treatment (Concat  (None, 4)           0           ['batch_normalization[0][0]',    \n",
      " enate)                                                           'input_2[0][0]']                \n",
      "                                                                                                  \n",
      " dense (Dense)                  (None, 10)           40          ['batch_normalization[0][0]']    \n",
      "                                                                                                  \n",
      " dense_2 (Dense)                (None, 10)           50          ['features_and_treatment[0][0]'] \n",
      "                                                                                                  \n",
      " batch_normalization_1 (BatchNo  (None, 10)          40          ['dense[0][0]']                  \n",
      " rmalization)                                                                                     \n",
      "                                                                                                  \n"
     ]
    },
    {
     "name": "stderr",
     "output_type": "stream",
     "text": [
      "2024-04-22 22:31:38.062804: E tensorflow/stream_executor/cuda/cuda_driver.cc:271] failed call to cuInit: CUDA_ERROR_NO_DEVICE: no CUDA-capable device is detected\n",
      "2024-04-22 22:31:38.062835: I tensorflow/stream_executor/cuda/cuda_diagnostics.cc:156] kernel driver does not appear to be running on this host (georg-XPS-13-9370): /proc/driver/nvidia/version does not exist\n",
      "2024-04-22 22:31:38.063151: I tensorflow/core/platform/cpu_feature_guard.cc:193] This TensorFlow binary is optimized with oneAPI Deep Neural Network Library (oneDNN) to use the following CPU instructions in performance-critical operations:  AVX2 FMA\n",
      "To enable them in other operations, rebuild TensorFlow with the appropriate compiler flags.\n"
     ]
    },
    {
     "name": "stdout",
     "output_type": "stream",
     "text": [
      " dropout_1 (Dropout)            (None, 10)           0           ['dense_2[0][0]']                \n",
      "                                                                                                  \n",
      " dropout (Dropout)              (None, 10)           0           ['batch_normalization_1[0][0]']  \n",
      "                                                                                                  \n",
      " batch_normalization_2 (BatchNo  (None, 10)          40          ['dropout_1[0][0]']              \n",
      " rmalization)                                                                                     \n",
      "                                                                                                  \n",
      " dense_1 (Dense)                (None, 10)           110         ['dropout[0][0]']                \n",
      "                                                                                                  \n",
      " concatenate_1 (Concatenate)    (None, 14)           0           ['batch_normalization_2[0][0]',  \n",
      "                                                                  'features_and_treatment[0][0]'] \n",
      "                                                                                                  \n",
      " concatenate (Concatenate)      (None, 13)           0           ['dense_1[0][0]',                \n",
      "                                                                  'batch_normalization[0][0]']    \n",
      "                                                                                                  \n",
      " feat_eng_state_0 (Dense)       (None, 5)            75          ['concatenate_1[0][0]']          \n",
      "                                                                                                  \n",
      " feat_eng_state_1 (Dense)       (None, 5)            75          ['concatenate_1[0][0]']          \n",
      "                                                                                                  \n",
      " feat_eng_state_2 (Dense)       (None, 5)            75          ['concatenate_1[0][0]']          \n",
      "                                                                                                  \n",
      " feat_eng_state_3 (Dense)       (None, 5)            75          ['concatenate_1[0][0]']          \n",
      "                                                                                                  \n",
      " scale_logit_0 (BiasOnly)       (None, 1)            1           ['features_and_treatment[0][0]'] \n",
      "                                                                                                  \n",
      " scale_logit_1 (BiasOnly)       (None, 1)            1           ['features_and_treatment[0][0]'] \n",
      "                                                                                                  \n",
      " scale_logit_2 (BiasOnly)       (None, 1)            1           ['features_and_treatment[0][0]'] \n",
      "                                                                                                  \n",
      " scale_logit_3 (BiasOnly)       (None, 1)            1           ['features_and_treatment[0][0]'] \n",
      "                                                                                                  \n",
      " predictive_state_simplex (Pred  (None, 4)           56          ['concatenate[0][0]']            \n",
      " ictiveStateSimplex)                                                                              \n",
      "                                                                                                  \n",
      " outcome_pred_state_0 (Dense)   (None, 1)            6           ['feat_eng_state_0[0][0]']       \n",
      "                                                                                                  \n",
      " outcome_pred_state_1 (Dense)   (None, 1)            6           ['feat_eng_state_1[0][0]']       \n",
      "                                                                                                  \n",
      " outcome_pred_state_2 (Dense)   (None, 1)            6           ['feat_eng_state_2[0][0]']       \n",
      "                                                                                                  \n",
      " outcome_pred_state_3 (Dense)   (None, 1)            6           ['feat_eng_state_3[0][0]']       \n",
      "                                                                                                  \n",
      " tf.math.softplus (TFOpLambda)  (None, 1)            0           ['scale_logit_0[0][0]']          \n",
      "                                                                                                  \n",
      " tf.math.softplus_1 (TFOpLambda  (None, 1)           0           ['scale_logit_1[0][0]']          \n",
      " )                                                                                                \n",
      "                                                                                                  \n",
      " tf.math.softplus_2 (TFOpLambda  (None, 1)           0           ['scale_logit_2[0][0]']          \n",
      " )                                                                                                \n",
      "                                                                                                  \n",
      " tf.math.softplus_3 (TFOpLambda  (None, 1)           0           ['scale_logit_3[0][0]']          \n",
      " )                                                                                                \n",
      "                                                                                                  \n",
      " propensity_score (PredictiveSt  (None, 1)           4           ['predictive_state_simplex[0][0]'\n",
      " ateMeans)                                                       ]                                \n",
      "                                                                                                  \n",
      " outcome_pred_combined (Concate  (None, 4)           0           ['outcome_pred_state_0[0][0]',   \n",
      " nate)                                                            'outcome_pred_state_1[0][0]',   \n",
      "                                                                  'outcome_pred_state_2[0][0]',   \n",
      "                                                                  'outcome_pred_state_3[0][0]']   \n",
      "                                                                                                  \n",
      " constant_scale_combined (Conca  (None, 4)           0           ['tf.math.softplus[0][0]',       \n",
      " tenate)                                                          'tf.math.softplus_1[0][0]',     \n",
      "                                                                  'tf.math.softplus_2[0][0]',     \n",
      "                                                                  'tf.math.softplus_3[0][0]']     \n",
      "                                                                                                  \n",
      " output_tensor (Concatenate)    (None, 13)           0           ['propensity_score[0][0]',       \n",
      "                                                                  'outcome_pred_combined[0][0]',  \n",
      "                                                                  'constant_scale_combined[0][0]',\n",
      "                                                                  'predictive_state_simplex[0][0]'\n",
      "                                                                 ]                                \n",
      "                                                                                                  \n",
      "==================================================================================================\n",
      "Total params: 680\n",
      "Trainable params: 634\n",
      "Non-trainable params: 46\n",
      "__________________________________________________________________________________________________\n",
      "You must install pydot (`pip install pydot`) and install graphviz (see instructions at https://graphviz.gitlab.io/download/) for plot_model/model_to_dot to work.\n"
     ]
    }
   ],
   "source": [
    "tf.random.set_seed(10)\n",
    "model = pypsps.keras.models.build_toy_model(4, X_s.shape[1])\n",
    "model.summary()\n",
    "tf.keras.utils.plot_model(model)"
   ]
  },
  {
   "cell_type": "code",
   "execution_count": 16,
   "metadata": {},
   "outputs": [
    {
     "name": "stdout",
     "output_type": "stream",
     "text": [
      "32/32 [==============================] - 0s 1ms/step\n"
     ]
    },
    {
     "data": {
      "text/plain": [
       "<Axes: >"
      ]
     },
     "execution_count": 16,
     "metadata": {},
     "output_type": "execute_result"
    },
    {
     "data": {
      "image/png": "[encoded data removed]",
      "text/plain": [
       "<Figure size 640x480 with 2 Axes>"
      ]
     },
     "metadata": {},
     "output_type": "display_data"
    }
   ],
   "source": [
    "inputs = [X_s.values, treatment.values]\n",
    "outputs = np.hstack([y.values, treatment.values])\n",
    "\n",
    "preds = model.predict(inputs)\n",
    "\n",
    "propensity_score, outcom const_scale, propensity_score, weights = pypsps.utils.split_y_pred(preds)\n",
    "sns.heatmap(weights)"
   ]
  },
  {
   "cell_type": "code",
   "execution_count": 17,
   "metadata": {},
   "outputs": [
    {
     "data": {
      "text/plain": [
       "(1000, 1)"
      ]
     },
     "execution_count": 17,
     "metadata": {},
     "output_type": "execute_result"
    }
   ],
   "source": [
    "outcome_pred.shape"
   ]
  },
  {
   "cell_type": "markdown",
   "metadata": {},
   "source": [
    "## Train model"
   ]
  },
  {
   "cell_type": "code",
   "execution_count": null,
   "metadata": {},
   "outputs": [],
   "source": [
    "# Preparet inputs and outputs (y_true) for losses / metrics and .fit() / .predict()\n",
    "input_data = [X_s.values, treatment.values]\n",
    "output_data = np.hstack([y.values, treatment.values])\n",
    "\n",
    "# pre-training model predictions\n",
    "y_pred = model.predict(input_data)\n",
    "y_pred.shape"
   ]
  },
  {
   "cell_type": "code",
   "execution_count": null,
   "metadata": {},
   "outputs": [],
   "source": [
    "psps_outcome_loss = pypsps.keras.losses.OutcomeLoss(loss=pypsps.keras.losses.NegloglikNormal(reduction=\"none\"), reduction=\"auto\")\n",
    "psps_treat_loss = pypsps.keras.losses.TreatmentLoss(loss=tf.keras.losses.BinaryCrossentropy(reduction=\"none\"), reduction=\"auto\")\n",
    "psps_outcome_loss(output_data, y_pred), psps_treat_loss(output_data, y_pred)"
   ]
  },
  {
   "cell_type": "code",
   "execution_count": null,
   "metadata": {},
   "outputs": [],
   "source": [
    "psps_causal_loss = pypsps.keras.losses.CausalLoss(outcome_loss=psps_outcome_loss,\n",
    "                                  treatment_loss=psps_treat_loss,\n",
    "                                  alpha=1.,\n",
    "                                  outcome_loss_weight=0.01,\n",
    "                                  predictive_states_regularizer=pypress.keras.regularizers.DegreesOfFreedom(10, df=5 - 1),\n",
    "                                  reduction=\"auto\")\n",
    "\n",
    "# Test loss function\n",
    "psps_causal_loss(output_data, y_pred)\n"
   ]
  },
  {
   "cell_type": "code",
   "execution_count": null,
   "metadata": {},
   "outputs": [],
   "source": [
    "tf.random.set_seed(10)\n",
    "model = pypsps.keras.models.build_toy_model(5, X_s.shape[1])\n",
    "model.summary()"
   ]
  },
  {
   "cell_type": "code",
   "execution_count": null,
   "metadata": {},
   "outputs": [],
   "source": [
    "model.compile(loss=psps_causal_loss, \n",
    "              optimizer=tfk.optimizers.Nadam(learning_rate=0.001), \n",
    "              metrics=[pypsps.keras.metrics.propensity_score_crossentropy])\n",
    "\n",
    "history = model.fit(input_data, output_data, epochs=50, batch_size=64,\n",
    "                    verbose=2, validation_split=0.2,\n",
    "                    callbacks=pypsps.keras.models.recommended_callbacks())\n"
   ]
  },
  {
   "cell_type": "code",
   "execution_count": null,
   "metadata": {},
   "outputs": [],
   "source": [
    "pd.DataFrame(history.history)[[\"loss\", \"val_loss\"]].plot()\n",
    "plt.grid()\n",
    "plt.show()\n",
    "pd.DataFrame(history.history).drop([\"loss\", \"val_loss\"], axis=1).plot()\n",
    "plt.grid()\n"
   ]
  },
  {
   "cell_type": "code",
   "execution_count": null,
   "metadata": {},
   "outputs": [],
   "source": [
    "y_pred = model.predict(input_data)\n",
    "outcome_pred, const_scale, propensity_score, weights = pypsps.utils.split_y_pred(y_pred)\n",
    "sns.displot(pd.Series(propensity_score.ravel()))"
   ]
  },
  {
   "cell_type": "code",
   "execution_count": null,
   "metadata": {},
   "outputs": [],
   "source": [
    "y_pred = model.predict(input_data)\n",
    "outcome_pred, const_scale, propensity_score, weights = pypsps.utils.split_y_pred(y_pred)\n",
    "_eval_propensity(output_data[:, 1], propensity_score.ravel())\n",
    "weights_df = pd.DataFrame(weights, index=X_s.index, columns=[\"state\" + str(i) for i in range(weights.shape[1])])\n",
    "sns.heatmap(weights_df.round(2))"
   ]
  },
  {
   "cell_type": "code",
   "execution_count": null,
   "metadata": {},
   "outputs": [],
   "source": [
    "psps_causal_loss = pypsps.keras.losses.CausalLoss(outcome_loss=psps_outcome_loss,\n",
    "                                  treatment_loss=psps_treat_loss,\n",
    "                                  alpha=1.,\n",
    "                                  outcome_loss_weight=1.0,\n",
    "                                  predictive_states_regularizer=pypress.keras.regularizers.DegreesOfFreedom(10, df=5 - 1),\n",
    "                                  reduction=\"auto\")\n",
    "# Test loss function\n",
    "print(psps_causal_loss(output_data, y_pred))\n",
    "\n",
    "model.compile(loss=psps_causal_loss, \n",
    "              optimizer=tfk.optimizers.Nadam(learning_rate=0.01), \n",
    "              metrics=[pypsps.keras.metrics.propensity_score_crossentropy])\n",
    "\n",
    "history = model.fit(input_data, output_data, epochs=50, batch_size=64,\n",
    "                    verbose=2, validation_split=0.2,\n",
    "                    # callbacks=all_callbacks\n",
    "                   )"
   ]
  },
  {
   "cell_type": "code",
   "execution_count": null,
   "metadata": {},
   "outputs": [],
   "source": [
    "y_pred = model.predict(input_data)\n",
    "outcome_pred, const_scale, propensity_score, weights = pypsps.utils.split_y_pred(y_pred)\n",
    "_eval_propensity(output_data[:, 1], propensity_score.ravel())\n",
    "weights_df = pd.DataFrame(weights, index=X_s.index, columns=[\"state\" + str(i) for i in range(weights.shape[1])])\n",
    "sns.heatmap(weights_df.round(2))"
   ]
  },
  {
   "cell_type": "code",
   "execution_count": null,
   "metadata": {},
   "outputs": [],
   "source": [
    "const_scale"
   ]
  },
  {
   "cell_type": "code",
   "execution_count": null,
   "metadata": {},
   "outputs": [],
   "source": [
    "tfk.losses.BinaryCrossentropy(reduction=\"sum\")(y_true=treatment.values, y_pred=propensity_score)"
   ]
  },
  {
   "cell_type": "code",
   "execution_count": null,
   "metadata": {},
   "outputs": [],
   "source": [
    "psps_treat_loss.reduction = \"sum\"\n",
    "psps_treat_loss(output_data, y_pred)"
   ]
  },
  {
   "cell_type": "code",
   "execution_count": null,
   "metadata": {},
   "outputs": [],
   "source": [
    "pypsps.keras.metrics.propensity_score_crossentropy(output_data, y_pred).numpy().sum()"
   ]
  },
  {
   "cell_type": "code",
   "execution_count": null,
   "metadata": {},
   "outputs": [],
   "source": [
    "y_df = pd.DataFrame(outcome_pred, columns=[\"y_pred\" + str(i) for i in range(outcome_pred.shape[1])])\n",
    "y_df[\"outcome\"] = y.values"
   ]
  },
  {
   "cell_type": "code",
   "execution_count": null,
   "metadata": {},
   "outputs": [],
   "source": [
    "sns.pairplot(y_df)"
   ]
  },
  {
   "cell_type": "code",
   "execution_count": null,
   "metadata": {},
   "outputs": [],
   "source": [
    "weights_df.sum().plot.barh()"
   ]
  },
  {
   "cell_type": "code",
   "execution_count": null,
   "metadata": {},
   "outputs": [],
   "source": [
    "sns.displot(pypsps.inference.predict_ute(model, X_s))"
   ]
  },
  {
   "cell_type": "code",
   "execution_count": null,
   "metadata": {},
   "outputs": [],
   "source": [
    "pypsps.inference.predict_ate(model, X_s)"
   ]
  },
  {
   "cell_type": "code",
   "execution_count": null,
   "metadata": {},
   "outputs": [],
   "source": []
  }
 ],
 "metadata": {
  "kernelspec": {
   "display_name": "Python 3 (ipykernel)",
   "language": "python",
   "name": "python3"
  },
  "language_info": {
   "codemirror_mode": {
    "name": "ipython",
    "version": 3
   },
   "file_extension": ".py",
   "mimetype": "text/x-python",
   "name": "python",
   "nbconvert_exporter": "python",
   "pygments_lexer": "ipython3",
   "version": "3.10.13"
  }
 },
 "nbformat": 4,
 "nbformat_minor": 4
}
